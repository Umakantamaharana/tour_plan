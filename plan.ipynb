{
 "cells": [
  {
   "cell_type": "code",
   "execution_count": 1,
   "id": "539c264e-274b-4fda-9675-436b321f6e71",
   "metadata": {},
   "outputs": [],
   "source": [
    "import openai\n",
    "from openai import OpenAI\n",
    "import ollama\n",
    "import google.generativeai as genai\n",
    "import os\n",
    "\n",
    "# client = OpenAI(api_key=\"OPENAPI_API_KEY\")\n",
    "# genai.configure(api_key=\"GEMINI_API_KEY\")"
   ]
  },
  {
   "cell_type": "code",
   "execution_count": 37,
   "id": "06ad41e6-3d70-4a4b-8e7b-a2c8767d3f5a",
   "metadata": {},
   "outputs": [],
   "source": [
    "# origin, city1, city2, city3, d1, d2, d3, c1, c2, c3, t1, t2, t3 = 'kendrapada', 'cuttack', 'bhubaneswar', 'puri', 7, 5, 5, 'kendrapada and cuttack', 'cuttack and bhubaneswar', 'bhubaneswar and puri', '1', '2', '2'\n",
    "origin = \"delhi\"\n",
    "city1 = \"kolkata\"\n",
    "city2 = \"bengaluru\"\n",
    "city3 = \"hyderabad\"\n",
    "\n",
    "d1 = 5\n",
    "d2 = 7\n",
    "d3 = 3\n",
    "\n",
    "c1 = \"delhi and kolkata\"\n",
    "c2 = \"hyderabad and bengaluru\"\n",
    "c3 = \"hyderabad and kolkata\"\n",
    "\n",
    "t1 = \"10\"\n",
    "t2 = \"4\"\n",
    "t3 = \"5\""
   ]
  },
  {
   "cell_type": "code",
   "execution_count": 65,
   "id": "99e15e7e-6212-42ab-ad39-cceb4b5e9c0a",
   "metadata": {},
   "outputs": [],
   "source": [
    "def generate_prompt(origin, city1, city2, city3, duration1, duration2, duration3, con1, con2, con3, t1, t2, t3):\n",
    "    if con1:\n",
    "        con1 = con1+\"(\"+t1+\" hours)\"\n",
    "    if con2:\n",
    "        con2 = con2+\"(\"+t2+\" hours)\" \n",
    "    if con3:\n",
    "        con3 = con3+\"(\"+t3+\" hours)\"\n",
    "    connections = \", \".join((con1, con2, con3))\n",
    "    \n",
    "    total_duration = int(duration1) + int(duration2) + int(duration3)\n",
    "    prompt = (f\"You plan to visit 3 Indian cities for {total_duration} days in total. \"\n",
    "            f\"You only take direct trains to commute between cities\"\n",
    "            f\"You would like to visit {city1} for {duration1} days. \"\n",
    "            f\"You would like to visit {city2} for {duration2} days, \"\n",
    "            f\"You would like to visit {city3} for {duration3} days. \"\n",
    "            f\"Here are the cities that have direct trains: {connections}. \"\n",
    "            f\"You start the trip from {origin}\"\n",
    "            f\"Find a trip plan of visiting the cities for {total_duration} days by taking direct trains to commute between them. \"\n",
    "            f\"Do not generate aditional explanations. \"\n",
    "            f\"Generate the output in the following manner satisfying the conditions given. You can modify the response if conditions are not met (d1, d2 .. are days, city1, city2 .. are cities, replace with actual days and cities\"\n",
    "            \"Day d1 : travel from {city1} to {city2}. Spend d days. \\n\"\n",
    "            \"Day d2 : travel from {city2} to {city3}. Spend d days. \\n\"\n",
    "            \"Day d3 : travel from {city3} to {city4}. Spend d days. \\n\"\n",
    "            \"Day d4 : travel from {city4} to {city1}. Spend d days. \"\n",
    "            )\n",
    "    prompt = (\n",
    "            f\"You plan to visit 3 Indian cities for a total of {total_duration} days. \"\n",
    "            f\"You will only travel between cities using direct trains. \"\n",
    "            f\"Your itinerary is as follows:\\n\"\n",
    "            f\"1. Visit {city1} for {duration1} days.\\n\"\n",
    "            f\"2. Visit {city2} for {duration2} days.\\n\"\n",
    "            f\"3. Visit {city3} for {duration3} days.\\n\"\n",
    "            f\"The cities with direct train connections are: {connections}. \"\n",
    "            f\"Your trip starts in {origin}.\\n\"\n",
    "            f\"Create a travel plan that fits the conditions specified, focusing solely on the itinerary. \"\n",
    "            f\"Do not include any additional explanations.\\n\"\n",
    "            f\"Format the output like this (replace placeholders with actual days and cities):\\n\"\n",
    "            f\"Day d1 : Travel from origin to city1. Visit city1 d days\\n\"\n",
    "            f\"Day d2 : Travel from city1 to city2. Visit city2 for d days\\n\"\n",
    "            f\"Day d3 : Travel from city2 to city3.  Visit city2 for d days\\n\"\n",
    "            f\"Day d4 : Travel from city3 to origin.\"\n",
    "        )\n",
    "    return prompt"
   ]
  },
  {
   "cell_type": "code",
   "execution_count": 67,
   "id": "a5c7002b-9ba2-44d1-8560-aab366b90142",
   "metadata": {},
   "outputs": [
    {
     "data": {
      "text/plain": [
       "'You plan to visit 3 Indian cities for a total of 15 days. You will only travel between cities using direct trains. Your itinerary is as follows:\\n1. Visit kolkata for 5 days.\\n2. Visit bengaluru for 7 days.\\n3. Visit hyderabad for 3 days.\\nThe cities with direct train connections are: delhi and kolkata(10 hours), hyderabad and bengaluru(4 hours), hyderabad and kolkata(5 hours). Your trip starts in delhi.\\nCreate a travel plan that fits the conditions specified, focusing solely on the itinerary. Do not include any additional explanations.\\nFormat the output like this (replace placeholders with actual days and cities):\\nDay d1 : Travel from origin to city1. Visit city1 d days\\nDay d2 : Travel from city1 to city2. Visit city2 for d days\\nDay d3 : Travel from city2 to city3.  Visit city2 for d days\\nDay d4 : Travel from city3 to origin.'"
      ]
     },
     "execution_count": 67,
     "metadata": {},
     "output_type": "execute_result"
    }
   ],
   "source": [
    "prompt = generate_prompt(origin, city1, city2, city3, d1, d2, d3, c1, c2, c3, t1, t2, t3)\n",
    "prompt"
   ]
  },
  {
   "cell_type": "code",
   "execution_count": 69,
   "id": "f74fd207-e492-4608-883d-b8b3c1a759b4",
   "metadata": {},
   "outputs": [],
   "source": [
    "response = ollama.chat(model='llama3.1:latest', messages=[\n",
    "  {\n",
    "    'role': 'user',\n",
    "    'content': prompt,\n",
    "  },\n",
    "])"
   ]
  },
  {
   "cell_type": "code",
   "execution_count": 70,
   "id": "8a6e8ce5-b22c-45c0-9ccf-73636441ef64",
   "metadata": {},
   "outputs": [
    {
     "name": "stdout",
     "output_type": "stream",
     "text": [
      "Day 1: Travel from Delhi to Kolkata. Visit Kolkata for 5 days\n",
      "Day 6: Travel from Kolkata to Bengaluru. Visit Bengaluru for 7 days\n",
      "Day 13: Travel from Bengaluru to Hyderabad. Visit Hyderabad for 3 days\n",
      "Day 16: Travel from Hyderabad to Delhi\n"
     ]
    }
   ],
   "source": [
    "print(response['message']['content'])"
   ]
  },
  {
   "cell_type": "code",
   "execution_count": 71,
   "id": "6d016d67-c37a-4b43-884e-c83592e66d2c",
   "metadata": {},
   "outputs": [],
   "source": [
    "response = ollama.chat(model='mistral:latest', messages=[\n",
    "  {\n",
    "    'role': 'user',\n",
    "    'content': prompt,\n",
    "  },\n",
    "])"
   ]
  },
  {
   "cell_type": "code",
   "execution_count": 72,
   "id": "e4124259-18da-4872-97e6-fb0111415adb",
   "metadata": {},
   "outputs": [
    {
     "name": "stdout",
     "output_type": "stream",
     "text": [
      " Day 1: Travel from Delhi to Kolkata (10 hours). Visit Kolkata for 5 days\n",
      "   Day 6: Travel from Kolkata to Bengaluru (by train, duration unknown as direct trains may not be available, so consider adding layover time if needed). Visit Bengaluru for 7 days\n",
      "   Day 13: Travel from Bengaluru to Hyderabad (4 hours). Visit Hyderabad for 3 days\n",
      "   Day 16: Travel from Hyderabad to Delhi (5 hours).\n"
     ]
    }
   ],
   "source": [
    "print(response['message']['content'])"
   ]
  },
  {
   "cell_type": "code",
   "execution_count": 73,
   "id": "0942c1c5-1da5-4b28-8ec2-ce7a6d2151a9",
   "metadata": {},
   "outputs": [],
   "source": [
    "response = ollama.chat(model='llama3.1:70b', messages=[\n",
    "  {\n",
    "    'role': 'user',\n",
    "    'content': prompt,\n",
    "  },\n",
    "])"
   ]
  },
  {
   "cell_type": "code",
   "execution_count": 74,
   "id": "5f6a0557-69ef-440d-a318-438bf330fea9",
   "metadata": {},
   "outputs": [
    {
     "name": "stdout",
     "output_type": "stream",
     "text": [
      "Here is the travel plan:\n",
      "\n",
      "Day 1-5: Travel from Delhi to Kolkata (10 hours). Visit Kolkata for 5 days.\n",
      "Day 6-7: Travel from Kolkata to Hyderabad (5 hours).\n",
      "Day 8-14: Travel from Hyderabad to Bengaluru (4 hours). Visit Bengaluru for 7 days.\n",
      "Day 15: Visit Hyderabad for 3 days and then travel back to Delhi is not possible due to the direct train connection constraint, however this can be modified as follows:\n",
      " \n",
      " Alternative solution considering only direct connections between cities:\n",
      "\n",
      " Day 1-5 : Travel from Delhi to Kolkata (10 hours). Visit Kolkata for 5 days.\n",
      "Day 6: Travel from Kolkata to Hyderabad (5 hours).\n",
      "Day 7-13: Travel from Hyderabad to Bengaluru is not possible in the same day, therefore visit Hyderabad first. \n",
      "Day 7-9: Visit Hyderabad for 3 days.\n",
      "Day 10: Travel from Hyderabad to Bengaluru (4 hours).\n",
      "Day 11-17: This would allow you to visit Bengaluru but exceeds the total number of days available. A modified version would be:\n",
      "Day 10-15 and beyond: Visit Bengaluru for more than the remaining time, however this also exceeds the allowed duration.\n",
      " \n",
      " A more suitable plan with direct connections and considering only the specified duration could be:\n",
      " Day 1-5 : Travel from Delhi to Kolkata (10 hours). Visit Kolkata for 5 days.\n",
      "Day 6: Travel from Kolkata to Hyderabad (5 hours).\n",
      "Day 7-9: Visit Hyderabad for 3 days.\n",
      "Day 10: Travel from Hyderabad to Bengaluru is not feasible in the given time, therefore choose between visiting either Hyderabad or Bengaluru after visiting Kolkata.\n",
      "Alternative plan considering only direct train connections and specified duration of visits:\n",
      " Day 1-5 : Travel from Delhi to Kolkata (10 hours). Visit Kolkata for 5 days.\n",
      "Day 6: Travel from Kolkata to Bengaluru is not feasible in a single day due to absence of direct connection, therefore the trip can either start with visiting Delhi-Kolkata-Bengaluru or visit only two cities within the given time frame.\n",
      " \n",
      " One more alternative plan could be:\n",
      " Day 1-5 : Travel from Delhi to Kolkata (10 hours). Visit Kolkata for 5 days.\n",
      "Day 6: Travel from Kolkata to Hyderabad is not needed as you can start with visiting Delhi and then directly travel to other city using direct trains between remaining cities, however it will involve backtracking or visiting only two cities due to the specified time frame of visits.\n"
     ]
    }
   ],
   "source": [
    "print(response['message']['content'])"
   ]
  },
  {
   "cell_type": "markdown",
   "id": "07eaf070-3e4d-4638-89d7-59587476481f",
   "metadata": {},
   "source": [
    "### GPT 4o mini"
   ]
  },
  {
   "cell_type": "code",
   "execution_count": 76,
   "id": "5e28ad94-9557-4577-866b-943347d228c4",
   "metadata": {},
   "outputs": [],
   "source": [
    "completion = client.chat.completions.create(\n",
    "    model=\"gpt-4o-mini\",\n",
    "    messages=[\n",
    "        {\"role\": \"user\", \"content\": prompt}\n",
    "    ]\n",
    ")"
   ]
  },
  {
   "cell_type": "code",
   "execution_count": 77,
   "id": "7bbbb6f8-eff7-44c8-9532-eddae6df7bd9",
   "metadata": {},
   "outputs": [
    {
     "name": "stdout",
     "output_type": "stream",
     "text": [
      "Day 1 : Travel from Delhi to Kolkata. Visit Kolkata for 5 days  \n",
      "Day 6 : Travel from Kolkata to Bengaluru. Visit Bengaluru for 7 days  \n",
      "Day 13 : Travel from Bengaluru to Hyderabad. Visit Hyderabad for 3 days  \n",
      "Day 15 : Travel from Hyderabad to Delhi.\n"
     ]
    }
   ],
   "source": [
    "print(completion.choices[0].message.content)"
   ]
  },
  {
   "cell_type": "markdown",
   "id": "b64bca91-598d-499d-bc12-b8c205195e9b",
   "metadata": {},
   "source": [
    "### Gemini 1.5 flash"
   ]
  },
  {
   "cell_type": "code",
   "execution_count": 79,
   "id": "1c8edf31-224f-449b-bee1-d0488c32ccd2",
   "metadata": {},
   "outputs": [],
   "source": [
    "model = genai.GenerativeModel(\"gemini-1.5-flash\")\n",
    "response = model.generate_content(prompt)"
   ]
  },
  {
   "cell_type": "code",
   "execution_count": 80,
   "id": "03520ec8-259d-4bcf-ad94-a2bb04edb594",
   "metadata": {},
   "outputs": [
    {
     "name": "stdout",
     "output_type": "stream",
     "text": [
      "Day 1 : Travel from Delhi to Kolkata. Visit Kolkata for 5 days.\n",
      "Day 6 : Travel from Kolkata to Hyderabad. Visit Hyderabad for 3 days.\n",
      "Day 9 : Travel from Hyderabad to Bengaluru. Visit Bengaluru for 7 days.\n",
      "Day 16 : Travel from Bengaluru to Delhi. \n",
      "\n"
     ]
    }
   ],
   "source": [
    "print(response.parts[0].text)"
   ]
  }
 ],
 "metadata": {
  "kernelspec": {
   "display_name": "Python 3 (ipykernel)",
   "language": "python",
   "name": "python3"
  },
  "language_info": {
   "codemirror_mode": {
    "name": "ipython",
    "version": 3
   },
   "file_extension": ".py",
   "mimetype": "text/x-python",
   "name": "python",
   "nbconvert_exporter": "python",
   "pygments_lexer": "ipython3",
   "version": "3.12.2"
  }
 },
 "nbformat": 4,
 "nbformat_minor": 5
}
